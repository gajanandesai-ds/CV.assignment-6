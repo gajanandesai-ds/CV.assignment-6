{
 "cells": [
  {
   "cell_type": "raw",
   "id": "dfcf3f87",
   "metadata": {},
   "source": [
    "1. What is the difference between TRAINABLE and NON-TRAINABLE PARAMETERS?"
   ]
  },
  {
   "cell_type": "raw",
   "id": "98315a82",
   "metadata": {},
   "source": [
    "ans:\n",
    "Trainable parameters are parameters that are manipulated by the learning algorithm during the training process, such as weights and biases in a neural network. Non-trainable parameters are parameters that remain fixed during the training process, such as the number of layers or the activation function in a neural network."
   ]
  },
  {
   "cell_type": "code",
   "execution_count": null,
   "id": "622043ab",
   "metadata": {},
   "outputs": [],
   "source": []
  },
  {
   "cell_type": "code",
   "execution_count": null,
   "id": "90deb4cd",
   "metadata": {},
   "outputs": [],
   "source": []
  },
  {
   "cell_type": "raw",
   "id": "8c072b38",
   "metadata": {},
   "source": [
    "2. In the CNN architecture, where does the DROPOUT LAYER go?"
   ]
  },
  {
   "cell_type": "raw",
   "id": "9380345b",
   "metadata": {},
   "source": [
    "ans:\n",
    "The dropout layer typically goes after the fully connected layers and before the output layer."
   ]
  },
  {
   "cell_type": "code",
   "execution_count": null,
   "id": "3cc5a169",
   "metadata": {},
   "outputs": [],
   "source": []
  },
  {
   "cell_type": "code",
   "execution_count": null,
   "id": "9f35e055",
   "metadata": {},
   "outputs": [],
   "source": []
  },
  {
   "cell_type": "raw",
   "id": "415edb11",
   "metadata": {},
   "source": [
    "3. What is the optimal number of hidden layers to stack?"
   ]
  },
  {
   "cell_type": "raw",
   "id": "99009605",
   "metadata": {},
   "source": [
    "ans:\n",
    "The optimal number of hidden layers to stack depends on the complexity of the data and the type of neural network being used. Generally, more complex data requires more layers, whereas simpler data may require fewer layers. Generally, a range of 1 to 4 hidden layers is recommended, although in some cases more may be necessary."
   ]
  },
  {
   "cell_type": "code",
   "execution_count": null,
   "id": "25190ebf",
   "metadata": {},
   "outputs": [],
   "source": []
  },
  {
   "cell_type": "code",
   "execution_count": null,
   "id": "6dad732a",
   "metadata": {},
   "outputs": [],
   "source": []
  },
  {
   "cell_type": "raw",
   "id": "68e4342e",
   "metadata": {},
   "source": [
    "4. In each layer, how many secret units or filters should there be?"
   ]
  },
  {
   "cell_type": "raw",
   "id": "33cbb572",
   "metadata": {},
   "source": [
    "ans:\n",
    "The number of secret units or filters in each layer will depend on the specific problem that the neural network is trying to solve. Generally, the more complex the problem, the more units or filters in each layer."
   ]
  },
  {
   "cell_type": "code",
   "execution_count": null,
   "id": "299e1880",
   "metadata": {},
   "outputs": [],
   "source": []
  },
  {
   "cell_type": "code",
   "execution_count": null,
   "id": "24c6d7fd",
   "metadata": {},
   "outputs": [],
   "source": []
  },
  {
   "cell_type": "raw",
   "id": "c4f8c83a",
   "metadata": {},
   "source": [
    "5. What should your initial learning rate be?"
   ]
  },
  {
   "cell_type": "raw",
   "id": "3d8842e2",
   "metadata": {},
   "source": [
    "ans:\n",
    "The initial learning rate should be determined based on the type of problem that is being solved and the type of model being used. A general rule of thumb is to start with a small learning rate (e.g. 0.001) and increase it gradually as the model learns more."
   ]
  },
  {
   "cell_type": "code",
   "execution_count": null,
   "id": "73afce46",
   "metadata": {},
   "outputs": [],
   "source": []
  },
  {
   "cell_type": "code",
   "execution_count": null,
   "id": "26c1f14a",
   "metadata": {},
   "outputs": [],
   "source": []
  },
  {
   "cell_type": "raw",
   "id": "822c0c14",
   "metadata": {},
   "source": [
    "6. What do you do with the activation function?"
   ]
  },
  {
   "cell_type": "raw",
   "id": "65d3e5ce",
   "metadata": {},
   "source": [
    "ans:\n",
    "The activation function is used to introduce non-linearity into the neural network. It is used to determine the output of the neural network based on the input and the weights of the neurons. The activation function is usually applied after the weighted sum of the inputs is calculated to determine the output of a neuron."
   ]
  },
  {
   "cell_type": "code",
   "execution_count": null,
   "id": "fc5f6a09",
   "metadata": {},
   "outputs": [],
   "source": []
  },
  {
   "cell_type": "code",
   "execution_count": null,
   "id": "57ff63f6",
   "metadata": {},
   "outputs": [],
   "source": []
  },
  {
   "cell_type": "raw",
   "id": "6d1441c9",
   "metadata": {},
   "source": [
    "7. What is NORMALIZATION OF DATA?"
   ]
  },
  {
   "cell_type": "raw",
   "id": "dc5b75cf",
   "metadata": {},
   "source": [
    "ans:\n",
    "Normalization of data is the process of organizing a database to reduce data redundancy and improve data integrity. It involves dividing a database into two or more tables and defining relationships between the tables. Normalization usually involves dividing a database table into smaller tables and defining relationships between them. The goal is to isolate data so that additions, deletions, and modifications of a field can be made in just one table and then propagated through the rest of the database using the defined relationships."
   ]
  },
  {
   "cell_type": "code",
   "execution_count": null,
   "id": "87dd61ad",
   "metadata": {},
   "outputs": [],
   "source": []
  },
  {
   "cell_type": "code",
   "execution_count": null,
   "id": "3ae637ac",
   "metadata": {},
   "outputs": [],
   "source": []
  },
  {
   "cell_type": "raw",
   "id": "4af8cc96",
   "metadata": {},
   "source": [
    "8. What is IMAGE AUGMENTATION and how does it work?"
   ]
  },
  {
   "cell_type": "raw",
   "id": "d6032c49",
   "metadata": {},
   "source": [
    "ans:\n",
    "Image augmentation is a technique used to increase the size and diversity of a dataset of images by applying various transformations to each image in the dataset. These transformations can include rotation, scaling, flips, noise, and a variety of other effects. By applying these transformations to each image, it results in a larger dataset of images with different characteristics, which can be used to improve the performance of machine learning models."
   ]
  },
  {
   "cell_type": "code",
   "execution_count": null,
   "id": "f7f39309",
   "metadata": {},
   "outputs": [],
   "source": []
  },
  {
   "cell_type": "code",
   "execution_count": null,
   "id": "37277bcb",
   "metadata": {},
   "outputs": [],
   "source": []
  },
  {
   "cell_type": "raw",
   "id": "dba732d9",
   "metadata": {},
   "source": [
    "9. What is DECLINE IN LEARNING RATE?"
   ]
  },
  {
   "cell_type": "raw",
   "id": "70a1197b",
   "metadata": {},
   "source": [
    "ans:\n",
    "Decline in learning rate is a phenomenon in which a student's ability to learn, retain, and recall information decreases over time. It can be caused by a number of factors, including fatigue, lack of motivation, boredom, and poor teaching methods. It is important for educators to recognize the signs of a decline in learning rate and provide students with the necessary tools and resources to help them improve their learning."
   ]
  },
  {
   "cell_type": "code",
   "execution_count": null,
   "id": "cc793efc",
   "metadata": {},
   "outputs": [],
   "source": []
  },
  {
   "cell_type": "code",
   "execution_count": null,
   "id": "f3e844f3",
   "metadata": {},
   "outputs": [],
   "source": []
  },
  {
   "cell_type": "raw",
   "id": "b2b66f8e",
   "metadata": {},
   "source": [
    "What does EARLY STOPPING CRITERIA mean?"
   ]
  },
  {
   "cell_type": "raw",
   "id": "14f8629a",
   "metadata": {},
   "source": [
    "ans:\n",
    "Early stopping criteria is a method used in machine learning to determine when to stop training a model. It monitors the performance of the model, such as accuracy and loss, and stops training when the performance has reached a certain threshold or plateau. This prevents the model from overfitting and ensures that the model is as accurate and efficient as possible."
   ]
  },
  {
   "cell_type": "code",
   "execution_count": null,
   "id": "17259587",
   "metadata": {},
   "outputs": [],
   "source": []
  }
 ],
 "metadata": {
  "kernelspec": {
   "display_name": "Python 3",
   "language": "python",
   "name": "python3"
  },
  "language_info": {
   "codemirror_mode": {
    "name": "ipython",
    "version": 3
   },
   "file_extension": ".py",
   "mimetype": "text/x-python",
   "name": "python",
   "nbconvert_exporter": "python",
   "pygments_lexer": "ipython3",
   "version": "3.8.8"
  }
 },
 "nbformat": 4,
 "nbformat_minor": 5
}
